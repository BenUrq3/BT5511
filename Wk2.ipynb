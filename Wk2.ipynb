{
 "cells": [
  {
   "cell_type": "code",
   "execution_count": 33,
   "id": "92a30476-6e4c-4422-93ec-58b4bad47b39",
   "metadata": {},
   "outputs": [],
   "source": [
    "import numpy as np\n",
    "import pandas as pd"
   ]
  },
  {
   "cell_type": "code",
   "execution_count": 5,
   "id": "b8b15e47-1073-4373-82aa-20ba7a361e2d",
   "metadata": {},
   "outputs": [
    {
     "data": {
      "text/plain": [
       "'Rachel'"
      ]
     },
     "execution_count": 5,
     "metadata": {},
     "output_type": "execute_result"
    }
   ],
   "source": [
    "myList = [\"Ross\", \"Joey\", \"Chandler\", \"Rachel\"]\n",
    "myList[3]"
   ]
  },
  {
   "cell_type": "code",
   "execution_count": 17,
   "id": "4db7565e-519f-47b9-9de8-885c1a1dea40",
   "metadata": {},
   "outputs": [
    {
     "data": {
      "text/plain": [
       "['Ross', 'Joey', 'Chandler']"
      ]
     },
     "execution_count": 17,
     "metadata": {},
     "output_type": "execute_result"
    }
   ],
   "source": [
    "myList[0:3]"
   ]
  },
  {
   "cell_type": "code",
   "execution_count": 19,
   "id": "cad727da-0bb7-45ba-bb2a-1306e5acad2e",
   "metadata": {},
   "outputs": [
    {
     "data": {
      "text/plain": [
       "['Ross', 'Chandler']"
      ]
     },
     "execution_count": 19,
     "metadata": {},
     "output_type": "execute_result"
    }
   ],
   "source": [
    "myList[::2]"
   ]
  },
  {
   "cell_type": "code",
   "execution_count": 21,
   "id": "de48a0e8-e24b-420d-b48c-97277078fbff",
   "metadata": {},
   "outputs": [
    {
     "data": {
      "text/plain": [
       "['Ross', 'Rachel']"
      ]
     },
     "execution_count": 21,
     "metadata": {},
     "output_type": "execute_result"
    }
   ],
   "source": [
    "myList[::3]"
   ]
  },
  {
   "cell_type": "code",
   "execution_count": 23,
   "id": "017784d7-0c18-49c4-866e-4e2907b499ae",
   "metadata": {},
   "outputs": [
    {
     "data": {
      "text/plain": [
       "'Chandler'"
      ]
     },
     "execution_count": 23,
     "metadata": {},
     "output_type": "execute_result"
    }
   ],
   "source": [
    "myList[-2]"
   ]
  },
  {
   "cell_type": "code",
   "execution_count": 25,
   "id": "7be0260d-5a5c-45e4-a245-8988980f970f",
   "metadata": {},
   "outputs": [
    {
     "data": {
      "text/plain": [
       "['Rachel', 'Chandler', 'Joey', 'Ross']"
      ]
     },
     "execution_count": 25,
     "metadata": {},
     "output_type": "execute_result"
    }
   ],
   "source": [
    "myList[::-1]"
   ]
  },
  {
   "cell_type": "code",
   "execution_count": 27,
   "id": "6a6f4213-91ff-4be9-a549-f7576b3f2cb0",
   "metadata": {},
   "outputs": [
    {
     "data": {
      "text/plain": [
       "336"
      ]
     },
     "execution_count": 27,
     "metadata": {},
     "output_type": "execute_result"
    }
   ],
   "source": [
    "dna_seqs = ['ATGGGACTGCCCTTGATGCCTCACGTATCCAAAAGCGTATCATGGAGCACTCGGAAACGCACTATAGCAATACCAGACCGTGATATACAACCAGATCACTCTACGATTAAACGACTGCGCCGCCGTATTGCGCTGCTTATCCGAGAAGCAGTCCCTCGTGCGACGCAGCACCAAGAACAAGTCTCAGAGTACCTTTGGACGTATGACTTCAGGATCGAGTCGGCGGCTAGGTTCTATGGGGAGCTCCGTGATAGGTCATCTAGACAGGGTGTGTATTATTTGAGAGTAAAACGAAATCCTCCTCGCATGTACGGGTCAATGGAATTCCCGGTCAGA',\n",
    "            'ATGGACACCTGGACATACTCCCAAGAGGCTGGAGCAGTGCCCCATTCCTCGGTGCCTCAAGTTCTGGGAATGTGCAATCCTCCGCGAGACATTCAAGGTTTCAGACCACGCGATCGGGTTAAGATACTATCTCAAGTACTTCTTTCGTGTAAGGCACCACTAGAATTGCTTACTTATCCAGGCGGACAAACTGCAATCCTATCTTCATGGGGGGTAGATTTACCATTTTGTAAGAATCTAGACGCACCACGTGGGCGTAGCGACAGGGAGACACAATGGAGCTGCATGATATGGCGGGATCCAAGATCCATGGCGAGCGCGTCATACTTTAGGTGC',\n",
    "            'ATGGTGCGCACGATTGAGTTGGAATTAGTCCCCAGACTGGCGACCATTACATACACCCTCCACCTTCCACGTCGGTTCAGCACGGGGTGGTGTTTCTCTCCAACACGAGGCCCGGGCGAATTAGTATTGATAATGCCTGGGCAGACAGCACTGGCCCGGCAGGAGATACTGGGCGATGGAAGACGTGGGTTAAGGCACGTCGGTTCTCTAGGTTTTCTATACTGGGCACGGAAGTTAGGGGCTAAAGAGCAACATACCTCTCCGCTGTCGGTCGATAGTGAGTCTTGCATAGCGATTGCTAAGAGCCTAGTTAAGCATACTCGTAACCGCGCCGCG',\n",
    "            'ATGCCTCCCGGTATCGCTGAGGCCCTAGCAAACGCACAGATCAACCAACTTGTGTCTAACGCCATGGGATCTGCCGCATTAGCTAACAATATTACGCCTATAACGCACGGCTTACCTTTCAAATGTGCTGACCAAGTGGCCTCGATACAATTAGGGACTACAGGGGATAGATGTGCAAGTTTGTTTCTATCAGCGCCGGTGATTCTACGACCGTGTAATCAGAGGGCAGCGAAGATGGATAAGGGGTTGACCAACATGCTCAGTAATGATCCAGGAGCCGGTTATGCCATGCGAATATGCATGTGCACAGTAGCCGGGAGAGCTTGTATTCGTATA',\n",
    "            'ATGACCCCACGCGGACCGTCAGGAGAAATCCTCTCACGGGATCCCGTCACTGTAACGCTCAGGGTCTTACGGCAACTCGAATGCTGTCGAAAATGTGGCAGTCAATCTCTATACCGGGGTCCGAGCTTTTTACATGTAATTTTGCAAGAATTCTTATATAGCACGATGAGACACGTACCCGATCACTTCGCCCAGCATACACTGATTAATACCGTCTATGTGATGTATTTACTTAAGACTCTCGCAACACCCGTGGCTTGGCGAAGTCTATCTGCACTAGTCGGGTCAGCCGTGCGGCGCGCACACACATCAAAGTGGCCGCAGTTGAGCGCAGTG']\n",
    "len(dna_seqs[1])\n"
   ]
  },
  {
   "cell_type": "code",
   "execution_count": 29,
   "id": "4e0a9086-e594-484c-9a36-f80902dafb33",
   "metadata": {},
   "outputs": [
    {
     "data": {
      "text/plain": [
       "'ATGGACACCTGGACATACTCCCAAGAGGCTGGAGCAGTGCCCCATTCCTCGGTGCCTCAAGTTCTGGGAATGTGCAATCCTCCGCGAGACATTCAAGGTTTCAGACCACGCGATCGGGTTAAGATACTATCTCAAGTACTTCTTTCGTGTAAGGCACCACTAGAATTGCTTACTTATCCAGGCGGACAAACTGCAATCCTATCTTCATGGGGGGTAGATTTACCATTTTGTAAGAATCTAGACGCACCACGTGGGCGTAGCGACAGGGAGACACAATGGAGCTGCATGATATGGCGGGATCCAAGATCCATGGCGAGCGCGTCATACTTTAGGTGC'"
      ]
     },
     "execution_count": 29,
     "metadata": {},
     "output_type": "execute_result"
    }
   ],
   "source": [
    "dna_seqs[1]"
   ]
  },
  {
   "cell_type": "code",
   "execution_count": 35,
   "id": "43fa9431-77e1-4d6e-8848-0930d084962e",
   "metadata": {},
   "outputs": [
    {
     "data": {
      "text/plain": [
       "array([[[1.21185912e-311, 1.21183891e-311, 2.39785524e-312, ...,\n",
       "         2.16443571e-312, 2.48273508e-312, 2.46151512e-312],\n",
       "        [6.79038653e-313, 2.14321575e-312, 2.05833592e-312, ...,\n",
       "         6.79038653e-313, 2.33419537e-312, 2.46151512e-312],\n",
       "        [2.14321575e-312, 6.79038654e-313, 2.35541533e-312, ...,\n",
       "         9.54898106e-313, 9.54898106e-313, 9.54898106e-313],\n",
       "        [9.54898106e-313, 9.54898106e-313, 9.54898106e-313, ...,\n",
       "         2.14321575e-312, 2.44029516e-312, 2.35541533e-312],\n",
       "        [2.01589600e-312, 2.05833592e-312, 2.05833592e-312, ...,\n",
       "         2.22809558e-312, 2.48273508e-312, 2.05833592e-312]],\n",
       "\n",
       "       [[2.29175545e-312, 2.44029516e-312, 2.05833592e-312, ...,\n",
       "         6.79038654e-313, 2.20687562e-312, 2.12199580e-313],\n",
       "        [6.79038653e-313, 6.79038653e-313, 6.79038653e-313, ...,\n",
       "         2.44029516e-312, 2.29175545e-312, 9.76118064e-313],\n",
       "        [2.33419537e-312, 2.14321575e-312, 2.05833592e-312, ...,\n",
       "         2.44029516e-312, 2.22809558e-312, 6.79038654e-313],\n",
       "        [2.20687562e-312, 6.79038654e-313, 2.44029516e-312, ...,\n",
       "         2.33419537e-312, 8.70018275e-313, 2.12199579e-313],\n",
       "        [6.79038653e-313, 6.79038653e-313, 6.79038653e-313, ...,\n",
       "         2.05833592e-312, 1.23075756e-312, 6.79038653e-313]],\n",
       "\n",
       "       [[6.79038653e-313, 6.79038653e-313, 6.79038653e-313, ...,\n",
       "         2.44029516e-312, 2.12199579e-312, 2.05833592e-312],\n",
       "        [6.79038654e-313, 2.35541533e-312, 2.20687562e-312, ...,\n",
       "         2.16443571e-312, 2.05833592e-312, 2.14321575e-312],\n",
       "        [9.76118064e-313, 2.54639495e-312, 2.05833592e-312, ...,\n",
       "         6.79038653e-313, 6.79038653e-313, 6.79038653e-313],\n",
       "        [6.79038653e-313, 6.79038653e-313, 6.79038653e-313, ...,\n",
       "         9.76118064e-313, 2.35541533e-312, 2.14321575e-312],\n",
       "        [2.12199579e-313, 6.79038653e-313, 6.79038653e-313, ...,\n",
       "         6.79038653e-313, 6.79038653e-313, 6.79038653e-313]],\n",
       "\n",
       "       [[6.79038653e-313, 9.76118064e-313, 2.37663529e-312, ...,\n",
       "         2.14321575e-312, 2.46151512e-312, 2.12199579e-313],\n",
       "        [6.79038653e-313, 6.79038653e-313, 6.79038653e-313, ...,\n",
       "         6.79038653e-313, 6.79038653e-313, 6.79038653e-313],\n",
       "        [6.79038653e-313, 6.79038653e-313, 6.79038653e-313, ...,\n",
       "         2.48273508e-312, 2.22809558e-312, 2.18565567e-312],\n",
       "        [2.16443571e-312, 2.29175545e-312, 1.23075756e-312, ...,\n",
       "         2.14321575e-312, 2.01589600e-312, 2.56761491e-312],\n",
       "        [1.29441743e-312, 2.41907520e-312, 2.14321575e-312, ...,\n",
       "         2.12199579e-312, 2.10077583e-312, 2.29175545e-312]],\n",
       "\n",
       "       [[6.79038654e-313, 2.22809558e-312, 2.29175545e-312, ...,\n",
       "         6.79038653e-313, 9.54898106e-313, 9.54898106e-313],\n",
       "        [9.54898106e-313, 9.54898106e-313, 6.79038653e-313, ...,\n",
       "         2.10077583e-312, 2.29175545e-312, 2.22809558e-312],\n",
       "        [2.18565567e-312, 2.44029516e-312, 2.29175545e-312, ...,\n",
       "         2.01589600e-312, 2.12199579e-312, 2.10077583e-312],\n",
       "        [2.29175545e-312, 2.01589600e-312, 2.12199579e-312, ...,\n",
       "         6.79038653e-313, 6.79038653e-313, 2.54639495e-312],\n",
       "        [2.14321575e-312, 2.46151512e-312, 1.40051722e-312, ...,\n",
       "         9.54898106e-313, 6.79038653e-313, 6.79038653e-313]]])"
      ]
     },
     "execution_count": 35,
     "metadata": {},
     "output_type": "execute_result"
    }
   ],
   "source": [
    "dna_dims = np.ndarray((5, 5, 336))\n",
    "dna_dims"
   ]
  },
  {
   "cell_type": "code",
   "execution_count": 37,
   "id": "ec737e7d-9fa8-4a93-a865-c0ca5e665583",
   "metadata": {},
   "outputs": [
    {
     "data": {
      "text/plain": [
       "(5, 5, 336)"
      ]
     },
     "execution_count": 37,
     "metadata": {},
     "output_type": "execute_result"
    }
   ],
   "source": [
    "dna_dims.shape"
   ]
  },
  {
   "cell_type": "code",
   "execution_count": 39,
   "id": "d9e6881c-f338-49ce-9378-0ed067eef4f7",
   "metadata": {},
   "outputs": [],
   "source": [
    "for idx1 in range(len(dna_seqs)):\n",
    "    seq1 = dna_seqs[idx1]\n",
    "    for idx2 in range(len(dna_seqs)):\n",
    "        seq2 = dna_seqs[idx2]\n",
    "        for nt in range(len(seq1)):\n",
    "            if seq1[nt] == seq2[nt]:\n",
    "                dna_dims[idx1, idx2, nt] = 1\n",
    "            else:\n",
    "                dna_dims[idx1, idx2, nt] = 0 "
   ]
  },
  {
   "cell_type": "code",
   "execution_count": 41,
   "id": "ca87e547-df3a-40d7-9432-e0aee4c33673",
   "metadata": {},
   "outputs": [
    {
     "data": {
      "text/plain": [
       "array([1., 1., 1., 1., 1., 1., 1., 1., 1., 1., 1., 1., 1., 1., 1., 1., 1.,\n",
       "       1., 1., 1., 1., 1., 1., 1., 1., 1., 1., 1., 1., 1., 1., 1., 1., 1.,\n",
       "       1., 1., 1., 1., 1., 1., 1., 1., 1., 1., 1., 1., 1., 1., 1., 1., 1.,\n",
       "       1., 1., 1., 1., 1., 1., 1., 1., 1., 1., 1., 1., 1., 1., 1., 1., 1.,\n",
       "       1., 1., 1., 1., 1., 1., 1., 1., 1., 1., 1., 1., 1., 1., 1., 1., 1.,\n",
       "       1., 1., 1., 1., 1., 1., 1., 1., 1., 1., 1., 1., 1., 1., 1., 1., 1.,\n",
       "       1., 1., 1., 1., 1., 1., 1., 1., 1., 1., 1., 1., 1., 1., 1., 1., 1.,\n",
       "       1., 1., 1., 1., 1., 1., 1., 1., 1., 1., 1., 1., 1., 1., 1., 1., 1.,\n",
       "       1., 1., 1., 1., 1., 1., 1., 1., 1., 1., 1., 1., 1., 1., 1., 1., 1.,\n",
       "       1., 1., 1., 1., 1., 1., 1., 1., 1., 1., 1., 1., 1., 1., 1., 1., 1.,\n",
       "       1., 1., 1., 1., 1., 1., 1., 1., 1., 1., 1., 1., 1., 1., 1., 1., 1.,\n",
       "       1., 1., 1., 1., 1., 1., 1., 1., 1., 1., 1., 1., 1., 1., 1., 1., 1.,\n",
       "       1., 1., 1., 1., 1., 1., 1., 1., 1., 1., 1., 1., 1., 1., 1., 1., 1.,\n",
       "       1., 1., 1., 1., 1., 1., 1., 1., 1., 1., 1., 1., 1., 1., 1., 1., 1.,\n",
       "       1., 1., 1., 1., 1., 1., 1., 1., 1., 1., 1., 1., 1., 1., 1., 1., 1.,\n",
       "       1., 1., 1., 1., 1., 1., 1., 1., 1., 1., 1., 1., 1., 1., 1., 1., 1.,\n",
       "       1., 1., 1., 1., 1., 1., 1., 1., 1., 1., 1., 1., 1., 1., 1., 1., 1.,\n",
       "       1., 1., 1., 1., 1., 1., 1., 1., 1., 1., 1., 1., 1., 1., 1., 1., 1.,\n",
       "       1., 1., 1., 1., 1., 1., 1., 1., 1., 1., 1., 1., 1., 1., 1., 1., 1.,\n",
       "       1., 1., 1., 1., 1., 1., 1., 1., 1., 1., 1., 1., 1.])"
      ]
     },
     "execution_count": 41,
     "metadata": {},
     "output_type": "execute_result"
    }
   ],
   "source": [
    "dna_dims[1, 1, :]"
   ]
  },
  {
   "cell_type": "code",
   "execution_count": 47,
   "id": "1dc15121-57b7-41f5-8bee-0cab69c69040",
   "metadata": {},
   "outputs": [
    {
     "data": {
      "text/plain": [
       "94.0"
      ]
     },
     "execution_count": 47,
     "metadata": {},
     "output_type": "execute_result"
    }
   ],
   "source": [
    "np.sum(dna_dims[1, 3, :])"
   ]
  },
  {
   "cell_type": "code",
   "execution_count": 49,
   "id": "7e50d67c-1aac-42c6-9419-a27f5345a1f3",
   "metadata": {},
   "outputs": [],
   "source": [
    "phone_book = {\"Names\": [\"Mike\", \"Daniel\", \"Ellie\", \"Heather\"],\n",
    "             \"Office\": [\"6.17\", \"5.23\", \"3.20\", \"3.18\"],\n",
    "             \"Department\": [\"Immunology\", \"Neuroscience\", \"Developmental Biology\", \"Immunology\"]}\n",
    "pb_df = pd.DataFrame(phone_book)"
   ]
  },
  {
   "cell_type": "code",
   "execution_count": 51,
   "id": "71f53328-1cd2-4809-ab34-bb315beff538",
   "metadata": {},
   "outputs": [
    {
     "data": {
      "text/html": [
       "<div>\n",
       "<style scoped>\n",
       "    .dataframe tbody tr th:only-of-type {\n",
       "        vertical-align: middle;\n",
       "    }\n",
       "\n",
       "    .dataframe tbody tr th {\n",
       "        vertical-align: top;\n",
       "    }\n",
       "\n",
       "    .dataframe thead th {\n",
       "        text-align: right;\n",
       "    }\n",
       "</style>\n",
       "<table border=\"1\" class=\"dataframe\">\n",
       "  <thead>\n",
       "    <tr style=\"text-align: right;\">\n",
       "      <th></th>\n",
       "      <th>Names</th>\n",
       "      <th>Office</th>\n",
       "      <th>Department</th>\n",
       "    </tr>\n",
       "  </thead>\n",
       "  <tbody>\n",
       "    <tr>\n",
       "      <th>0</th>\n",
       "      <td>Mike</td>\n",
       "      <td>6.17</td>\n",
       "      <td>Immunology</td>\n",
       "    </tr>\n",
       "    <tr>\n",
       "      <th>1</th>\n",
       "      <td>Daniel</td>\n",
       "      <td>5.23</td>\n",
       "      <td>Neuroscience</td>\n",
       "    </tr>\n",
       "    <tr>\n",
       "      <th>2</th>\n",
       "      <td>Ellie</td>\n",
       "      <td>3.20</td>\n",
       "      <td>Developmental Biology</td>\n",
       "    </tr>\n",
       "    <tr>\n",
       "      <th>3</th>\n",
       "      <td>Heather</td>\n",
       "      <td>3.18</td>\n",
       "      <td>Immunology</td>\n",
       "    </tr>\n",
       "  </tbody>\n",
       "</table>\n",
       "</div>"
      ],
      "text/plain": [
       "     Names Office             Department\n",
       "0     Mike   6.17             Immunology\n",
       "1   Daniel   5.23           Neuroscience\n",
       "2    Ellie   3.20  Developmental Biology\n",
       "3  Heather   3.18             Immunology"
      ]
     },
     "execution_count": 51,
     "metadata": {},
     "output_type": "execute_result"
    }
   ],
   "source": [
    "pb_df"
   ]
  },
  {
   "cell_type": "code",
   "execution_count": 55,
   "id": "bfb3817d-9a64-4fd2-a082-0b02cae42b5c",
   "metadata": {},
   "outputs": [
    {
     "data": {
      "text/plain": [
       "(4, 3)"
      ]
     },
     "execution_count": 55,
     "metadata": {},
     "output_type": "execute_result"
    }
   ],
   "source": [
    "pb_df.shape"
   ]
  },
  {
   "cell_type": "code",
   "execution_count": 57,
   "id": "c8393870-8583-4c2b-aff6-2e6d8f1152c0",
   "metadata": {},
   "outputs": [
    {
     "data": {
      "text/plain": [
       "pandas.core.frame.DataFrame"
      ]
     },
     "execution_count": 57,
     "metadata": {},
     "output_type": "execute_result"
    }
   ],
   "source": [
    "type(pb_df)"
   ]
  },
  {
   "cell_type": "code",
   "execution_count": 59,
   "id": "2137dc41-d929-4d35-a15f-2ea404154e8b",
   "metadata": {},
   "outputs": [],
   "source": [
    "import re"
   ]
  },
  {
   "cell_type": "code",
   "execution_count": 63,
   "id": "ab3bf574-2679-44b4-81ac-ccd56915cf05",
   "metadata": {},
   "outputs": [
    {
     "data": {
      "text/plain": [
       "re.compile(r'TATA[A|T]A[A|T]', re.UNICODE)"
      ]
     },
     "execution_count": 63,
     "metadata": {},
     "output_type": "execute_result"
    }
   ],
   "source": [
    "tata_re = re.compile(\"TATA[A|T]A[A|T]\")\n",
    "tata_re"
   ]
  },
  {
   "cell_type": "code",
   "execution_count": 65,
   "id": "595d183f-d0bd-4f10-adfc-d844e5474cb9",
   "metadata": {},
   "outputs": [
    {
     "data": {
      "text/plain": [
       "<re.Match object; span=(37, 44), match='TATATAT'>"
      ]
     },
     "execution_count": 65,
     "metadata": {},
     "output_type": "execute_result"
    }
   ],
   "source": [
    "bact_seq = \"CACTTCAGGTTAAGCGGCGCGGCCTGCGCATTTTGGATATATATAATCCT\"\n",
    "tata_match = tata_re.search(bact_seq)\n",
    "tata_match"
   ]
  },
  {
   "cell_type": "code",
   "execution_count": null,
   "id": "d5374495-ce92-4494-8bf5-ee8231cb670f",
   "metadata": {},
   "outputs": [],
   "source": []
  }
 ],
 "metadata": {
  "kernelspec": {
   "display_name": "Python 3 (ipykernel)",
   "language": "python",
   "name": "python3"
  },
  "language_info": {
   "codemirror_mode": {
    "name": "ipython",
    "version": 3
   },
   "file_extension": ".py",
   "mimetype": "text/x-python",
   "name": "python",
   "nbconvert_exporter": "python",
   "pygments_lexer": "ipython3",
   "version": "3.11.7"
  }
 },
 "nbformat": 4,
 "nbformat_minor": 5
}

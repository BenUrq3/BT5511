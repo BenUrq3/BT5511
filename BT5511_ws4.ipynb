{
 "cells": [
  {
   "cell_type": "code",
   "execution_count": 44,
   "id": "9915ce1f-334d-4379-8e4c-f977142ed14d",
   "metadata": {},
   "outputs": [],
   "source": [
    "def transcribeDNA(seq):\n",
    "    '''    \n",
    "    Transcribe a DNA sequence into an mRNA sequence\n",
    "    '''\n",
    "    \n",
    "    trans_dict = {\"A\": \"U\", \"C\": \"G\", \"T\": \"A\", \"G\":\"C\"}\n",
    "    dna_seq = \"\".join([trans_dict[x] for x in seq])\n",
    "    \n",
    "    return(dna_seq[::-1])\n",
    "\n",
    "\n",
    "\n",
    "def translateSeq(seq, codons, frame=1):\n",
    "    '''\n",
    "    translate an mRNA sequence into a peptide\n",
    "    st is the starting nt index, i.e. which reading frame: 0, 1 or 2\n",
    "    '''\n",
    "\n",
    "    import re\n",
    "\n",
    "    if type(seq) != str:\n",
    "        raise TypeError(\"seq should be a string not {}\".format(type(seq)))\n",
    "\n",
    "    re_find = re.compile(\"[BC-FH-TV-Z]\") #Avoiding A,U,C,G\n",
    "    \n",
    "    if any(re_find.search(seq)):\n",
    "        raise TypeError(\"seq shou\n",
    "    \n",
    "    if any([xt for xt in seq])\n",
    "    if not seq.find([\"A\", \"U\", \"C\", \"G\"]):\n",
    "    \n",
    "    \n",
    "    codon_dict = {\"UUU\": \"F\", \"UUC\": \"F\", \"UUA\": \"L\", \"UUG\": \"L\", \"UCU\": \"S\", \"UCC\": \"S\", \"UCA\": \"S\", \"UCG\": \"S\",\n",
    "                  \"UAU\": \"Y\", \"UAC\": \"Y\", \"UAA\": \"*\", \"UAG\": \"*\", \"UGU\": \"C\", \"UGC\": \"C\", \"UGA\": \"*\", \"UGG\": \"W\",\n",
    "                  \"CUU\": \"L\", \"CUC\": \"L\", \"CUA\": \"L\", \"CUG\": \"L\", \"CCU\": \"P\", \"CCC\": \"P\", \"CCA\": \"P\", \"CCG\": \"P\",\n",
    "                  \"CAU\": \"H\", \"CAC\": \"H\", \"CAA\": \"Q\", \"CAG\": \"Q\", \"CGU\": \"R\", \"CGC\": \"R\", \"CGA\": \"R\", \"CGG\": \"R\",\n",
    "                  \"AUU\": \"I\", \"AUC\": \"I\", \"AUA\": \"I\", \"AUG\": \"M\", \"ACU\": \"T\", \"ACC\": \"T\", \"ACA\": \"T\", \"ACG\": \"T\",\n",
    "                  \"AAU\": \"N\", \"AAC\": \"N\", \"AAA\": \"K\", \"AAG\": \"K\", \"AGU\": \"S\", \"AGC\": \"S\", \"AGA\": \"R\", \"AGG\": \"R\",\n",
    "                  \"GUU\": \"V\", \"GUC\": \"V\", \"GUA\": \"V\", \"GUG\": \"V\", \"GCU\": \"A\", \"GCC\": \"A\", \"GCA\": \"A\", \"GCG\": \"A\",\n",
    "                  \"GAU\": \"D\", \"GAC\": \"D\", \"GAA\": \"E\", \"GAG\": \"E\", \"GGU\": \"G\", \"GGC\": \"G\", \"GGA\": \"G\", \"GGG\": \"G\"}\n",
    "\n",
    "\n",
    "    peptide = \"\"\n",
    "    if frame == 1:\n",
    "        fseq = seq\n",
    "    elif frame == 2:\n",
    "        fseq = seq[1:-2]\n",
    "    elif frame == 3:\n",
    "        fseq = seq[2:-1]\n",
    "\n",
    "    if len(fseq) % 3 == 0:\n",
    "        pass\n",
    "    else:\n",
    "        raise TypeError(\"fseq is not divisible by 3\")\n",
    "    \n",
    "    for idx in range(0, len(fseq), 3):\n",
    "        codon = fseq[idx: idx+3]\n",
    "        aa = codons[codon]\n",
    "        if idx != len(fseq) - 3:\n",
    "            if aa == \"*\":\n",
    "                return(peptide + aa)\n",
    "            else:\n",
    "                peptide += aa\n",
    "        else:\n",
    "            peptide += aa\n",
    "    \n",
    "    return(peptide)\n"
   ]
  },
  {
   "cell_type": "code",
   "execution_count": 46,
   "id": "895165db-1369-4e69-bd0a-f855c4f021b9",
   "metadata": {},
   "outputs": [],
   "source": [
    "dna_seq=\"ATGATCCACGATTCCAGGCTTCCCATTCAAAATTGCCGCCATCCAAAGGCTGACTGGGGACGTGTAAGGAGCGTTCGAGAATATACAAAGTCAGATCGAGACACGCCGGTACATTCTATCTGGAACGGGCCGTCGCCGAGACCTTCGCTGTGCTTCTTTAGTAGTTCCTCAATGCCGAATGGGGCATCGGGCAGGTGTAACAACAAGCTTCGTATGAATGTATTTCTAAGTCTGGACTATTCCGTATATGCTGCTTTATTAGTGCGACTATGGCGAGATCATAGGCAATCGTGTCCCATGGGTCAGGACGCGGTAAGGAGTACAACCAGCATCAACTGA\"\n",
    "codon_dict = {\"UUU\": \"F\", \"UUC\": \"F\", \"UUA\": \"L\", \"UUG\": \"L\", \"UCU\": \"S\", \"UCC\": \"S\", \"UCA\": \"S\", \"UCG\": \"S\",\n",
    "                  \"UAU\": \"Y\", \"UAC\": \"Y\", \"UAA\": \"*\", \"UAG\": \"*\", \"UGU\": \"C\", \"UGC\": \"C\", \"UGA\": \"*\", \"UGG\": \"W\",\n",
    "                  \"CUU\": \"L\", \"CUC\": \"L\", \"CUA\": \"L\", \"CUG\": \"L\", \"CCU\": \"P\", \"CCC\": \"P\", \"CCA\": \"P\", \"CCG\": \"P\",\n",
    "                  \"CAU\": \"H\", \"CAC\": \"H\", \"CAA\": \"Q\", \"CAG\": \"Q\", \"CGU\": \"R\", \"CGC\": \"R\", \"CGA\": \"R\", \"CGG\": \"R\",\n",
    "                  \"AUU\": \"I\", \"AUC\": \"I\", \"AUA\": \"I\", \"AUG\": \"M\", \"ACU\": \"T\", \"ACC\": \"T\", \"ACA\": \"T\", \"ACG\": \"T\",\n",
    "                  \"AAU\": \"N\", \"AAC\": \"N\", \"AAA\": \"K\", \"AAG\": \"K\", \"AGU\": \"S\", \"AGC\": \"S\", \"AGA\": \"R\", \"AGG\": \"R\",\n",
    "                  \"GUU\": \"V\", \"GUC\": \"V\", \"GUA\": \"V\", \"GUG\": \"V\", \"GCU\": \"A\", \"GCC\": \"A\", \"GCA\": \"A\", \"GCG\": \"A\",\n",
    "                  \"GAU\": \"D\", \"GAC\": \"D\", \"GAA\": \"E\", \"GAG\": \"E\", \"GGU\": \"G\", \"GGC\": \"G\", \"GGA\": \"G\", \"GGG\": \"G\"}\n",
    "\n",
    "mrna = transcribeDNA(dna_seq)\n",
    "\n",
    "amino_acid = translateSeq(mrna, codon_dict)"
   ]
  },
  {
   "cell_type": "code",
   "execution_count": 50,
   "id": "771e7abd-9f71-408a-8560-ea9ed4720fb4",
   "metadata": {},
   "outputs": [
    {
     "name": "stdout",
     "output_type": "stream",
     "text": [
      "SVDAGCTPYRVLTHGTRLPMISP*\n",
      "QLMLVVLLTAS*\n",
      "S*\n"
     ]
    }
   ],
   "source": [
    "for frm in range(3):\n",
    "    aa = translateSeq(mrna, codon_dict, frame=frm+1)\n",
    "    print(aa)"
   ]
  },
  {
   "cell_type": "code",
   "execution_count": null,
   "id": "8d4af060-b236-4d1d-a8b7-c44fc250583d",
   "metadata": {},
   "outputs": [],
   "source": []
  }
 ],
 "metadata": {
  "kernelspec": {
   "display_name": "Python 3 (ipykernel)",
   "language": "python",
   "name": "python3"
  },
  "language_info": {
   "codemirror_mode": {
    "name": "ipython",
    "version": 3
   },
   "file_extension": ".py",
   "mimetype": "text/x-python",
   "name": "python",
   "nbconvert_exporter": "python",
   "pygments_lexer": "ipython3",
   "version": "3.11.7"
  }
 },
 "nbformat": 4,
 "nbformat_minor": 5
}
